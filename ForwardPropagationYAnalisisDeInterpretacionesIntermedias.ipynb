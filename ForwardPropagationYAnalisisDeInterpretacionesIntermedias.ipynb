{
  "nbformat": 4,
  "nbformat_minor": 0,
  "metadata": {
    "colab": {
      "name": "ForwardPropagationYAnalisisDeInterpretacionesIntermedias.ipynb",
      "provenance": [],
      "collapsed_sections": []
    },
    "kernelspec": {
      "name": "python3",
      "display_name": "Python 3"
    }
  },
  "cells": [
    {
      "cell_type": "markdown",
      "metadata": {
        "id": "suDQTu4LsTe_",
        "colab_type": "text"
      },
      "source": [
        "**Diego Fernando Valle Morales**\n",
        "\n",
        "**Carné 20003022**"
      ]
    },
    {
      "cell_type": "markdown",
      "metadata": {
        "id": "-xJPhEzbqWp9",
        "colab_type": "text"
      },
      "source": [
        "Igorando el sesgo/bias y asumiendo activación sigmoidal implementar la siguiente red neuronal en NumPy\n",
        "\n",
        "https://gadictos.com/neural-network-pt1/\n",
        "<img src=\"https://gadictos.com/wp-content/uploads/2019/05/bp1.png\">"
      ]
    },
    {
      "cell_type": "code",
      "metadata": {
        "id": "2xWoBhmgsotG",
        "colab_type": "code",
        "colab": {}
      },
      "source": [
        "import numpy as np"
      ],
      "execution_count": 1,
      "outputs": []
    },
    {
      "cell_type": "code",
      "metadata": {
        "id": "nDT2NL2ysMg0",
        "colab_type": "code",
        "colab": {
          "base_uri": "https://localhost:8080/",
          "height": 35
        },
        "outputId": "205edded-4c39-4698-bdf7-2e3f29f28774"
      },
      "source": [
        "def sigmoid(X):\n",
        "  return 1/(1+np.exp(-X))\n",
        "\n",
        "sigmoid(np.array([2,3,4]))"
      ],
      "execution_count": 2,
      "outputs": [
        {
          "output_type": "execute_result",
          "data": {
            "text/plain": [
              "array([0.88079708, 0.95257413, 0.98201379])"
            ]
          },
          "metadata": {
            "tags": []
          },
          "execution_count": 2
        }
      ]
    },
    {
      "cell_type": "code",
      "metadata": {
        "id": "I26FV7bTt7_0",
        "colab_type": "code",
        "colab": {}
      },
      "source": [
        "Wc1 = np.array([\n",
        "  [0.9,0.8,0.1],\n",
        "  [0.3,0.5,0.6],\n",
        "  [0.2,0.4,0.7]    \n",
        "])"
      ],
      "execution_count": 3,
      "outputs": []
    },
    {
      "cell_type": "code",
      "metadata": {
        "id": "igLnKkEjuGja",
        "colab_type": "code",
        "colab": {}
      },
      "source": [
        "Wc2 = np.array([0.3,0.5,0.9])"
      ],
      "execution_count": 4,
      "outputs": []
    },
    {
      "cell_type": "code",
      "metadata": {
        "id": "QpuyvB96uKPQ",
        "colab_type": "code",
        "colab": {}
      },
      "source": [
        "# 4 observaciones, 3 variables\n",
        "X = np.array([\n",
        "      [1,0,1],\n",
        "      [1,2,3],\n",
        "      [4,5,6],\n",
        "      [6,7,8],\n",
        "])"
      ],
      "execution_count": 5,
      "outputs": []
    },
    {
      "cell_type": "markdown",
      "metadata": {
        "id": "TddM54HDuTxD",
        "colab_type": "text"
      },
      "source": [
        "Forward-propagation (inferencia, predicción o estimación)"
      ]
    },
    {
      "cell_type": "code",
      "metadata": {
        "id": "Ja17nwt_uSYP",
        "colab_type": "code",
        "colab": {}
      },
      "source": [
        "H = np.matmul(X,Wc1)"
      ],
      "execution_count": 6,
      "outputs": []
    },
    {
      "cell_type": "code",
      "metadata": {
        "id": "iP72qTaYxAAE",
        "colab_type": "code",
        "colab": {
          "base_uri": "https://localhost:8080/",
          "height": 35
        },
        "outputId": "166273c3-6407-47ff-da5c-b14254d791b5"
      },
      "source": [
        "X.shape"
      ],
      "execution_count": 7,
      "outputs": [
        {
          "output_type": "execute_result",
          "data": {
            "text/plain": [
              "(4, 3)"
            ]
          },
          "metadata": {
            "tags": []
          },
          "execution_count": 7
        }
      ]
    },
    {
      "cell_type": "code",
      "metadata": {
        "id": "Z8lXDfpKxDkr",
        "colab_type": "code",
        "colab": {
          "base_uri": "https://localhost:8080/",
          "height": 35
        },
        "outputId": "e617feb5-80ca-47e3-f237-6dafb0bc12fa"
      },
      "source": [
        "Wc1.shape"
      ],
      "execution_count": 8,
      "outputs": [
        {
          "output_type": "execute_result",
          "data": {
            "text/plain": [
              "(3, 3)"
            ]
          },
          "metadata": {
            "tags": []
          },
          "execution_count": 8
        }
      ]
    },
    {
      "cell_type": "code",
      "metadata": {
        "id": "htZmu7VMxFmK",
        "colab_type": "code",
        "colab": {
          "base_uri": "https://localhost:8080/",
          "height": 35
        },
        "outputId": "4a4bd3b5-876c-49e1-e3ab-6acdc8709ca0"
      },
      "source": [
        "H.shape"
      ],
      "execution_count": 9,
      "outputs": [
        {
          "output_type": "execute_result",
          "data": {
            "text/plain": [
              "(4, 3)"
            ]
          },
          "metadata": {
            "tags": []
          },
          "execution_count": 9
        }
      ]
    },
    {
      "cell_type": "code",
      "metadata": {
        "id": "YJMtEJ3IxHrl",
        "colab_type": "code",
        "colab": {}
      },
      "source": [
        "A = sigmoid(H)"
      ],
      "execution_count": 10,
      "outputs": []
    },
    {
      "cell_type": "code",
      "metadata": {
        "id": "0WdAxpG2xMzi",
        "colab_type": "code",
        "colab": {
          "base_uri": "https://localhost:8080/",
          "height": 87
        },
        "outputId": "6c8bb800-8160-44dd-9120-d34c52b30244"
      },
      "source": [
        "A"
      ],
      "execution_count": 11,
      "outputs": [
        {
          "output_type": "execute_result",
          "data": {
            "text/plain": [
              "array([[0.75026011, 0.76852478, 0.68997448],\n",
              "       [0.89090318, 0.95257413, 0.96770454],\n",
              "       [0.99816706, 0.99969655, 0.9994998 ],\n",
              "       [0.99988835, 0.99998987, 0.99996957]])"
            ]
          },
          "metadata": {
            "tags": []
          },
          "execution_count": 11
        }
      ]
    },
    {
      "cell_type": "code",
      "metadata": {
        "id": "CpUWSs4yxN6G",
        "colab_type": "code",
        "colab": {}
      },
      "source": [
        "y_aprox = sigmoid(np.matmul(\n",
        "    A,Wc2\n",
        "))"
      ],
      "execution_count": 12,
      "outputs": []
    },
    {
      "cell_type": "code",
      "metadata": {
        "id": "bFr79lB0xTY2",
        "colab_type": "code",
        "colab": {
          "base_uri": "https://localhost:8080/",
          "height": 35
        },
        "outputId": "01b7bc3f-380d-4046-fbd3-d725407107e6"
      },
      "source": [
        "y_aprox"
      ],
      "execution_count": 13,
      "outputs": [
        {
          "output_type": "execute_result",
          "data": {
            "text/plain": [
              "array([0.77387413, 0.83403412, 0.84538425, 0.84552612])"
            ]
          },
          "metadata": {
            "tags": []
          },
          "execution_count": 13
        }
      ]
    },
    {
      "cell_type": "code",
      "metadata": {
        "id": "ur4oM8kixVmS",
        "colab_type": "code",
        "colab": {}
      },
      "source": [
        "def g(X):\n",
        "  return sigmoid(np.matmul(X,Wc1))"
      ],
      "execution_count": 14,
      "outputs": []
    },
    {
      "cell_type": "code",
      "metadata": {
        "id": "EotmDAfrxXud",
        "colab_type": "code",
        "colab": {}
      },
      "source": [
        "def f(g):\n",
        "  return sigmoid(np.matmul(g,Wc2))"
      ],
      "execution_count": 15,
      "outputs": []
    },
    {
      "cell_type": "code",
      "metadata": {
        "id": "cjez0CwVxaDM",
        "colab_type": "code",
        "colab": {}
      },
      "source": [
        "y_aprox = f(g(X))"
      ],
      "execution_count": 16,
      "outputs": []
    },
    {
      "cell_type": "code",
      "metadata": {
        "id": "8DaU792jxcLk",
        "colab_type": "code",
        "colab": {
          "base_uri": "https://localhost:8080/",
          "height": 35
        },
        "outputId": "fc014f2d-f19e-420a-ea45-3d2f922612a4"
      },
      "source": [
        "y_aprox"
      ],
      "execution_count": 17,
      "outputs": [
        {
          "output_type": "execute_result",
          "data": {
            "text/plain": [
              "array([0.77387413, 0.83403412, 0.84538425, 0.84552612])"
            ]
          },
          "metadata": {
            "tags": []
          },
          "execution_count": 17
        }
      ]
    },
    {
      "cell_type": "markdown",
      "metadata": {
        "id": "evG3NgD5xgg6",
        "colab_type": "text"
      },
      "source": [
        "ORIENTADO A OBJETOS"
      ]
    },
    {
      "cell_type": "code",
      "metadata": {
        "id": "QsvR0xyBxisH",
        "colab_type": "code",
        "colab": {}
      },
      "source": [
        "class RedNeuronal:\n",
        "  def __init__(self):\n",
        "    self.Wc1 = np.array([\n",
        "        [0.9,0.8,0.1],\n",
        "        [0.3,0.5,0.6],\n",
        "        [0.2,0.4,0.7]    \n",
        "    ])\n",
        "\n",
        "    self. Wc2  = np.array([0.3,0.5,0.9])\n",
        "\n",
        "  def forward_propagation(self,X):\n",
        "    A = sigmoid(np.matmul(X,self.Wc1))\n",
        "    y_aprox = sigmoid(np.matmul(A,self.Wc2))\n",
        "\n",
        "    return y_aprox"
      ],
      "execution_count": 18,
      "outputs": []
    },
    {
      "cell_type": "code",
      "metadata": {
        "id": "oYIfqLy5xkCR",
        "colab_type": "code",
        "colab": {
          "base_uri": "https://localhost:8080/",
          "height": 35
        },
        "outputId": "fea9c6d9-fb9e-4c77-d222-de68d182d934"
      },
      "source": [
        "red = RedNeuronal()\n",
        "red.forward_propagation(X)"
      ],
      "execution_count": 19,
      "outputs": [
        {
          "output_type": "execute_result",
          "data": {
            "text/plain": [
              "array([0.77387413, 0.83403412, 0.84538425, 0.84552612])"
            ]
          },
          "metadata": {
            "tags": []
          },
          "execution_count": 19
        }
      ]
    },
    {
      "cell_type": "markdown",
      "metadata": {
        "id": "zzvKRkK8EQBI",
        "colab_type": "text"
      },
      "source": [
        "<img src=\"https://i.imgur.com/IDFRq5a.png\">"
      ]
    },
    {
      "cell_type": "code",
      "metadata": {
        "id": "hgRijGpVyrb5",
        "colab_type": "code",
        "colab": {}
      },
      "source": [
        "class RedNeuronal:\n",
        "  def __init__(self):\n",
        "    # 1 fila por neurona , 1 columna por variable de entrada\n",
        "    self.Wc1 = np.array([\n",
        "        [0.8,0.2],\n",
        "        [0.4,0.9],\n",
        "        [0.3,0.5]    \n",
        "    ])\n",
        "\n",
        "    # 1 elemento para cada neurona intermedia\n",
        "    self. Wc2  = np.array([0.3,0.5,0.9])\n",
        "\n",
        "  def forward_propagation(self,X):\n",
        "    print(X.shape)\n",
        "    print(self.Wc1.T.shape)\n",
        "    A = sigmoid(np.matmul(X,self.Wc1.T)) # 1 fila por observacion, 1 columna por representacion intermedia [4,3]\n",
        "    print(A)\n",
        "    print(A.shape)\n",
        "    y_aprox = sigmoid(np.matmul(A,self.Wc2)) # 1 fila por observacion,  1 unica salida [4,1]\n",
        "    print(y_aprox.shape)\n",
        "    return y_aprox"
      ],
      "execution_count": 20,
      "outputs": []
    },
    {
      "cell_type": "code",
      "metadata": {
        "id": "dK9I-0Cky8pb",
        "colab_type": "code",
        "colab": {}
      },
      "source": [
        "# 4 observaciones, 2 variables\n",
        "X = np.array([\n",
        "      [1,1],\n",
        "      [1,2],\n",
        "      [4,5],\n",
        "      [6,7],\n",
        "])"
      ],
      "execution_count": 21,
      "outputs": []
    },
    {
      "cell_type": "code",
      "metadata": {
        "id": "FGOxU0F7y9jx",
        "colab_type": "code",
        "colab": {
          "base_uri": "https://localhost:8080/",
          "height": 163
        },
        "outputId": "8e4c8958-37d8-4ec3-b4c7-386908d9bef6"
      },
      "source": [
        "red = RedNeuronal()\n",
        "y_aprox = red.forward_propagation(X)"
      ],
      "execution_count": 22,
      "outputs": [
        {
          "output_type": "stream",
          "text": [
            "(4, 2)\n",
            "(2, 3)\n",
            "[[0.73105858 0.78583498 0.68997448]\n",
            " [0.76852478 0.90024951 0.78583498]\n",
            " [0.98522597 0.99776215 0.97587298]\n",
            " [0.99797468 0.99983344 0.9950332 ]]\n",
            "(4, 3)\n",
            "(4,)\n"
          ],
          "name": "stdout"
        }
      ]
    },
    {
      "cell_type": "code",
      "metadata": {
        "id": "CMJNHwE6zELe",
        "colab_type": "code",
        "colab": {
          "base_uri": "https://localhost:8080/",
          "height": 35
        },
        "outputId": "97869009-806f-4db0-db40-a072ed8df761"
      },
      "source": [
        "y_aprox"
      ],
      "execution_count": 23,
      "outputs": [
        {
          "output_type": "execute_result",
          "data": {
            "text/plain": [
              "array([0.77438027, 0.80026216, 0.84194007, 0.84485948])"
            ]
          },
          "metadata": {
            "tags": []
          },
          "execution_count": 23
        }
      ]
    },
    {
      "cell_type": "markdown",
      "metadata": {
        "id": "LetbzFZWL9KG",
        "colab_type": "text"
      },
      "source": [
        "![xor.JPG](data:image/jpeg;base64,/9j/4AAQSkZJRgABAQEAYABgAAD/4RDuRXhpZgAATU0AKgAAAAgABAE7AAIAAAAMAAAISodpAAQAAAABAAAIVpydAAEAAAAYAAAQzuocAAcAAAgMAAAAPgAAAAAc6gAAAAgAAAAAAAAAAAAAAAAAAAAAAAAAAAAAAAAAAAAAAAAAAAAAAAAAAAAAAAAAAAAAAAAAAAAAAAAAAAAAAAAAAAAAAAAAAAAAAAAAAAAAAAAAAAAAAAAAAAAAAAAAAAAAAAAAAAAAAAAAAAAAAAAAAAAAAAAAAAAAAAAAAAAAAAAAAAAAAAAAAAAAAAAAAAAAAAAAAAAAAAAAAAAAAAAAAAAAAAAAAAAAAAAAAAAAAAAAAAAAAAAAAAAAAAAAAAAAAAAAAAAAAAAAAAAAAAAAAAAAAAAAAAAAAAAAAAAAAAAAAAAAAAAAAAAAAAAAAAAAAAAAAAAAAAAAAAAAAAAAAAAAAAAAAAAAAAAAAAAAAAAAAAAAAAAAAAAAAAAAAAAAAAAAAAAAAAAAAAAAAAAAAAAAAAAAAAAAAAAAAAAAAAAAAAAAAAAAAAAAAAAAAAAAAAAAAAAAAAAAAAAAAAAAAAAAAAAAAAAAAAAAAAAAAAAAAAAAAAAAAAAAAAAAAAAAAAAAAAAAAAAAAAAAAAAAAAAAAAAAAAAAAAAAAAAAAAAAAAAAAAAAAAAAAAAAAAAAAAAAAAAAAAAAAAAAAAAAAAAAAAAAAAAAAAAAAAAAAAAAAAAAAAAAAAAAAAAAAAAAAAAAAAAAAAAAAAAAAAAAAAAAAAAAAAAAAAAAAAAAAAAAAAAAAAAAAAAAAAAAAAAAAAAAAAAAAAAAAAAAAAAAAAAAAAAAAAAAAAAAAAAAAAAAAAAAAAAAAAAAAAAAAAAAAAAAAAAAAAAAAAAAAAAAAAAAAAAAAAAAAAAAAAAAAAAAAAAAAAAAAAAAAAAAAAAAAAAAAAAAAAAAAAAAAAAAAAAAAAAAAAAAAAAAAAAAAAAAAAAAAAAAAAAAAAAAAAAAAAAAAAAAAAAAAAAAAAAAAAAAAAAAAAAAAAAAAAAAAAAAAAAAAAAAAAAAAAAAAAAAAAAAAAAAAAAAAAAAAAAAAAAAAAAAAAAAAAAAAAAAAAAAAAAAAAAAAAAAAAAAAAAAAAAAAAAAAAAAAAAAAAAAAAAAAAAAAAAAAAAAAAAAAAAAAAAAAAAAAAAAAAAAAAAAAAAAAAAAAAAAAAAAAAAAAAAAAAAAAAAAAAAAAAAAAAAAAAAAAAAAAAAAAAAAAAAAAAAAAAAAAAAAAAAAAAAAAAAAAAAAAAAAAAAAAAAAAAAAAAAAAAAAAAAAAAAAAAAAAAAAAAAAAAAAAAAAAAAAAAAAAAAAAAAAAAAAAAAAAAAAAAAAAAAAAAAAAAAAAAAAAAAAAAAAAAAAAAAAAAAAAAAAAAAAAAAAAAAAAAAAAAAAAAAAAAAAAAAAAAAAAAAAAAAAAAAAAAAAAAAAAAAAAAAAAAAAAAAAAAAAAAAAAAAAAAAAAAAAAAAAAAAAAAAAAAAAAAAAAAAAAAAAAAAAAAAAAAAAAAAAAAAAAAAAAAAAAAAAAAAAAAAAAAAAAAAAAAAAAAAAAAAAAAAAAAAAAAAAAAAAAAAAAAAAAAAAAAAAAAAAAAAAAAAAAAAAAAAAAAAAAAAAAAAAAAAAAAAAAAAAAAAAAAAAAAAAAAAAAAAAAAAAAAAAAAAAAAAAAAAAAAAAAAAAAAAAAAAAAAAAAAAAAAAAAAAAAAAAAAAAAAAAAAAAAAAAAAAAAAAAAAAAAAAAAAAAAAAAAAAAAAAAAAAAAAAAAAAAAAAAAAAAAAAAAAAAAAAAAAAAAAAAAAAAAAAAAAAAAAAAAAAAAAAAAAAAAAAAAAAAAAAAAAAAAAAAAAAAAAAAAAAAAAAAAAAAAAAAAAAAAAAAAAAAAAAAAAAAAAAAAAAAAAAAAAAAAAAAAAAAAAAAAAAAAAAAAAAAAAAAAAAAAAAAAAAAAAAAAAAAAAAAAAAAAAAAAAAAAAAAAAAAAAAAAAAAAAAAAAAAAAAAAAAAAAAAAAAAAAAAAAAAAAAAAAAAAAAAAAAAAAAAAAAAAAAAAAAAAAAAAAAAAAAAAAAAAAAAAAAAAAAAAAAAAAAAAAAAAAAAAAAAAAAAAAAAAAAAAAAAAAAAAAAAAAAAAAAAAAAAAAAAAAAAAAAAAAAAAAAAAAAAAAAAAAAAAAAAAAAAAAAAAAAAAAAAAAAAAAAAAAAAAAAAAAAAAAAAAAAAAAAAAAAAAAAAAAAAAAAAAAAAAAAAAAAAAAAAAAAAAAAAAAAAAAAAAAAAAAAAAAAAAAAAAAAAAAAAAAAAAAAAAAAAAAAAAAAAAAAAAAAAAAAAAAAAAAAAAAAAAAAAAAAAAAAAAAAAAAAAAAAAAAAAAAAAAAAAAAAAAAAAAAAAAAAAAAAAAAAAAAAAAAAAAAAAAAAAAAAAAAAAAAAAAAAAAAAAAAAAAAAAAAAAAAAAAAAAAAAAAAAAAAAAAAAAAAAAAAAAAAAAAAAAAAAAAAAAAAAAAAAAAAAAAAAAAAAAAAAAAAAAAAAAAAAAAAAAAAAAAAAAAAAAAAAAAAAAAAAAAAAAAAAAAAAAAAAAAAAAAAAAAAAAAAAAAAAAAAAAAAAAAAAAAAAAAAAAAAAAAAAAAAAAAAAAAAAAAAAAAAAAAAAAAAAAAAAAAAAAAAAAAAAAAAAAAAAAAAAAAAAAAAAAAAAAAAAAAAAAAAAAAAAAAAAAAAAAAAAAAAAAAAAAAAAAAAAAAAAAAAAAAAAAAAAAAAAAAAAAAAAAAAAAAAAAAAAAAAAAAAAAAAAAAAAAAAAAAAAAAAAAAAAAAAAAAAAAAAAAAERpZWdvIFZhbGxlAAAFkAMAAgAAABQAABCkkAQAAgAAABQAABC4kpEAAgAAAAMyOQAAkpIAAgAAAAMyOQAA6hwABwAACAwAAAiYAAAAABzqAAAACAAAAAAAAAAAAAAAAAAAAAAAAAAAAAAAAAAAAAAAAAAAAAAAAAAAAAAAAAAAAAAAAAAAAAAAAAAAAAAAAAAAAAAAAAAAAAAAAAAAAAAAAAAAAAAAAAAAAAAAAAAAAAAAAAAAAAAAAAAAAAAAAAAAAAAAAAAAAAAAAAAAAAAAAAAAAAAAAAAAAAAAAAAAAAAAAAAAAAAAAAAAAAAAAAAAAAAAAAAAAAAAAAAAAAAAAAAAAAAAAAAAAAAAAAAAAAAAAAAAAAAAAAAAAAAAAAAAAAAAAAAAAAAAAAAAAAAAAAAAAAAAAAAAAAAAAAAAAAAAAAAAAAAAAAAAAAAAAAAAAAAAAAAAAAAAAAAAAAAAAAAAAAAAAAAAAAAAAAAAAAAAAAAAAAAAAAAAAAAAAAAAAAAAAAAAAAAAAAAAAAAAAAAAAAAAAAAAAAAAAAAAAAAAAAAAAAAAAAAAAAAAAAAAAAAAAAAAAAAAAAAAAAAAAAAAAAAAAAAAAAAAAAAAAAAAAAAAAAAAAAAAAAAAAAAAAAAAAAAAAAAAAAAAAAAAAAAAAAAAAAAAAAAAAAAAAAAAAAAAAAAAAAAAAAAAAAAAAAAAAAAAAAAAAAAAAAAAAAAAAAAAAAAAAAAAAAAAAAAAAAAAAAAAAAAAAAAAAAAAAAAAAAAAAAAAAAAAAAAAAAAAAAAAAAAAAAAAAAAAAAAAAAAAAAAAAAAAAAAAAAAAAAAAAAAAAAAAAAAAAAAAAAAAAAAAAAAAAAAAAAAAAAAAAAAAAAAAAAAAAAAAAAAAAAAAAAAAAAAAAAAAAAAAAAAAAAAAAAAAAAAAAAAAAAAAAAAAAAAAAAAAAAAAAAAAAAAAAAAAAAAAAAAAAAAAAAAAAAAAAAAAAAAAAAAAAAAAAAAAAAAAAAAAAAAAAAAAAAAAAAAAAAAAAAAAAAAAAAAAAAAAAAAAAAAAAAAAAAAAAAAAAAAAAAAAAAAAAAAAAAAAAAAAAAAAAAAAAAAAAAAAAAAAAAAAAAAAAAAAAAAAAAAAAAAAAAAAAAAAAAAAAAAAAAAAAAAAAAAAAAAAAAAAAAAAAAAAAAAAAAAAAAAAAAAAAAAAAAAAAAAAAAAAAAAAAAAAAAAAAAAAAAAAAAAAAAAAAAAAAAAAAAAAAAAAAAAAAAAAAAAAAAAAAAAAAAAAAAAAAAAAAAAAAAAAAAAAAAAAAAAAAAAAAAAAAAAAAAAAAAAAAAAAAAAAAAAAAAAAAAAAAAAAAAAAAAAAAAAAAAAAAAAAAAAAAAAAAAAAAAAAAAAAAAAAAAAAAAAAAAAAAAAAAAAAAAAAAAAAAAAAAAAAAAAAAAAAAAAAAAAAAAAAAAAAAAAAAAAAAAAAAAAAAAAAAAAAAAAAAAAAAAAAAAAAAAAAAAAAAAAAAAAAAAAAAAAAAAAAAAAAAAAAAAAAAAAAAAAAAAAAAAAAAAAAAAAAAAAAAAAAAAAAAAAAAAAAAAAAAAAAAAAAAAAAAAAAAAAAAAAAAAAAAAAAAAAAAAAAAAAAAAAAAAAAAAAAAAAAAAAAAAAAAAAAAAAAAAAAAAAAAAAAAAAAAAAAAAAAAAAAAAAAAAAAAAAAAAAAAAAAAAAAAAAAAAAAAAAAAAAAAAAAAAAAAAAAAAAAAAAAAAAAAAAAAAAAAAAAAAAAAAAAAAAAAAAAAAAAAAAAAAAAAAAAAAAAAAAAAAAAAAAAAAAAAAAAAAAAAAAAAAAAAAAAAAAAAAAAAAAAAAAAAAAAAAAAAAAAAAAAAAAAAAAAAAAAAAAAAAAAAAAAAAAAAAAAAAAAAAAAAAAAAAAAAAAAAAAAAAAAAAAAAAAAAAAAAAAAAAAAAAAAAAAAAAAAAAAAAAAAAAAAAAAAAAAAAAAAAAAAAAAAAAAAAAAAAAAAAAAAAAAAAAAAAAAAAAAAAAAAAAAAAAAAAAAAAAAAAAAAAAAAAAAAAAAAAAAAAAAAAAAAAAAAAAAAAAAAAAAAAAAAAAAAAAAAAAAAAAAAAAAAAAAAAAAAAAAAAAAAAAAAAAAAAAAAAAAAAAAAAAAAAAAAAAAAAAAAAAAAAAAAAAAAAAAAAAAAAAAAAAAAAAAAAAAAAAAAAAAAAAAAAAAAAAAAAAAAAAAAAAAAAAAAAAAAAAAAAAAAAAAAAAAAAAAAAAAAAAAAAAAAAAAAAAAAAAAAAAAAAAAAAAAAAAAAAAAAAAAAAAAAAAAAAAAAAAAAAAAAAAAAAAAAAAAAAAAAAAAAAAAAAAAAAAAAAAAAAAAAAAAAAAAAAAAAAAAAAAAAAAAAAAAAAAAAAAAAAAAAAAAAAAAAAAAAAAAAAAAAAAAAAAAAAAAAAAAAAAAAAAAAAAAAAAAAAAAAAAAAAAAAAAAAAAAAAAAAAAAAAAAAAAAAAAAAAAAAAAAAAAAAAAAAAAAAAAAAAAAAAAAAAAAAAAAAAAAAAAAAAAAAAAAAAAAAAAAAAAAAAAAAAAAAAAAAAAAAAAAAAAAAAAAAAAAAAAAAAAAAAAAAAAAAAAAAAAAAAAAAAAAAAAAAAAAAAAAAAAAAAAAAAAAAAAAAAAAAAAAAAAAAAAAAAAAAAAAAAAAAAAAAAAAAAAAAAAAAAAAAAAAAAAAAAAAAAAAAAAAAAAAAAAAAAAAAAAAAAAAAAAAAAAAAAAAAAAAAAAAAAAAAAAAAAAAAAAAAAAAAAAAAAAAAAAAAAAAAAAAAAAAAAAAAAAAAAAAAAAAAAAAAAAAAAAAAAAAAMjAyMDowOTowNSAyMDowMTowNwAyMDIwOjA5OjA1IDIwOjAxOjA3AAAARABpAGUAZwBvACAAVgBhAGwAbABlAAAA/+ELHmh0dHA6Ly9ucy5hZG9iZS5jb20veGFwLzEuMC8APD94cGFja2V0IGJlZ2luPSfvu78nIGlkPSdXNU0wTXBDZWhpSHpyZVN6TlRjemtjOWQnPz4NCjx4OnhtcG1ldGEgeG1sbnM6eD0iYWRvYmU6bnM6bWV0YS8iPjxyZGY6UkRGIHhtbG5zOnJkZj0iaHR0cDovL3d3dy53My5vcmcvMTk5OS8wMi8yMi1yZGYtc3ludGF4LW5zIyI+PHJkZjpEZXNjcmlwdGlvbiByZGY6YWJvdXQ9InV1aWQ6ZmFmNWJkZDUtYmEzZC0xMWRhLWFkMzEtZDMzZDc1MTgyZjFiIiB4bWxuczpkYz0iaHR0cDovL3B1cmwub3JnL2RjL2VsZW1lbnRzLzEuMS8iLz48cmRmOkRlc2NyaXB0aW9uIHJkZjphYm91dD0idXVpZDpmYWY1YmRkNS1iYTNkLTExZGEtYWQzMS1kMzNkNzUxODJmMWIiIHhtbG5zOnhtcD0iaHR0cDovL25zLmFkb2JlLmNvbS94YXAvMS4wLyI+PHhtcDpDcmVhdGVEYXRlPjIwMjAtMDktMDVUMjA6MDE6MDcuMjkyPC94bXA6Q3JlYXRlRGF0ZT48L3JkZjpEZXNjcmlwdGlvbj48cmRmOkRlc2NyaXB0aW9uIHJkZjphYm91dD0idXVpZDpmYWY1YmRkNS1iYTNkLTExZGEtYWQzMS1kMzNkNzUxODJmMWIiIHhtbG5zOmRjPSJodHRwOi8vcHVybC5vcmcvZGMvZWxlbWVudHMvMS4xLyI+PGRjOmNyZWF0b3I+PHJkZjpTZXEgeG1sbnM6cmRmPSJodHRwOi8vd3d3LnczLm9yZy8xOTk5LzAyLzIyLXJkZi1zeW50YXgtbnMjIj48cmRmOmxpPkRpZWdvIFZhbGxlPC9yZGY6bGk+PC9yZGY6U2VxPg0KCQkJPC9kYzpjcmVhdG9yPjwvcmRmOkRlc2NyaXB0aW9uPjwvcmRmOlJERj48L3g6eG1wbWV0YT4NCiAgICAgICAgICAgICAgICAgICAgICAgICAgICAgICAgICAgICAgICAgICAgICAgICAgICAgICAgICAgICAgICAgICAgICAgICAgICAgICAgICAgICAgICAgICAgICAgICAgICAKICAgICAgICAgICAgICAgICAgICAgICAgICAgICAgICAgICAgICAgICAgICAgICAgICAgICAgICAgICAgICAgICAgICAgICAgICAgICAgICAgICAgICAgICAgICAgICAgICAgIAogICAgICAgICAgICAgICAgICAgICAgICAgICAgICAgICAgICAgICAgICAgICAgICAgICAgICAgICAgICAgICAgICAgICAgICAgICAgICAgICAgICAgICAgICAgICAgICAgICAgCiAgICAgICAgICAgICAgICAgICAgICAgICAgICAgICAgICAgICAgICAgICAgICAgICAgICAgICAgICAgICAgICAgICAgICAgICAgICAgICAgICAgICAgICAgICAgICAgICAgICAKICAgICAgICAgICAgICAgICAgICAgICAgICAgICAgICAgICAgICAgICAgICAgICAgICAgICAgICAgICAgICAgICAgICAgICAgICAgICAgICAgICAgICAgICAgICAgICAgICAgIAogICAgICAgICAgICAgICAgICAgICAgICAgICAgICAgICAgICAgICAgICAgICAgICAgICAgICAgICAgICAgICAgICAgICAgICAgICAgICAgICAgICAgICAgICAgICAgICAgICAgCiAgICAgICAgICAgICAgICAgICAgICAgICAgICAgICAgICAgICAgICAgICAgICAgICAgICAgICAgICAgICAgICAgICAgICAgICAgICAgICAgICAgICAgICAgICAgICAgICAgICAKICAgICAgICAgICAgICAgICAgICAgICAgICAgICAgICAgICAgICAgICAgICAgICAgICAgICAgICAgICAgICAgICAgICAgICAgICAgICAgICAgICAgICAgICAgICAgICAgICAgIAogICAgICAgICAgICAgICAgICAgICAgICAgICAgICAgICAgICAgICAgICAgICAgICAgICAgICAgICAgICAgICAgICAgICAgICAgICAgICAgICAgICAgICAgICAgICAgICAgICAgCiAgICAgICAgICAgICAgICAgICAgICAgICAgICAgICAgICAgICAgICAgICAgICAgICAgICAgICAgICAgICAgICAgICAgICAgICAgICAgICAgICAgICAgICAgICAgICAgICAgICAKICAgICAgICAgICAgICAgICAgICAgICAgICAgICAgICAgICAgICAgICAgICAgICAgICAgICAgICAgICAgICAgICAgICAgICAgICAgICAgICAgICAgICAgICAgICAgICAgICAgIAogICAgICAgICAgICAgICAgICAgICAgICAgICAgICAgICAgICAgICAgICAgICAgICAgICAgICAgICAgICAgICAgICAgICAgICAgICAgICAgICAgICAgICAgICAgICAgICAgICAgCiAgICAgICAgICAgICAgICAgICAgICAgICAgICAgICAgICAgICAgICAgICAgICAgICAgICAgICAgICAgICAgICAgICAgICAgICAgICAgICAgICAgICAgICAgICAgICAgICAgICAKICAgICAgICAgICAgICAgICAgICAgICAgICAgICAgICAgICAgICAgICAgICAgICAgICAgICAgICAgICAgICAgICAgICAgICAgICAgICAgICAgICAgICAgICAgICAgICAgICAgIAogICAgICAgICAgICAgICAgICAgICAgICAgICAgICAgICAgICAgICAgICAgICAgICAgICAgICAgICAgICAgICAgICAgICAgICAgICAgICAgICAgICAgICAgICAgICAgICAgICAgCiAgICAgICAgICAgICAgICAgICAgICAgICAgICAgICAgICAgICAgICAgICAgICAgICAgICAgICAgICAgICAgICAgICAgICAgICAgICAgICAgICAgICAgICAgICAgICAgICAgICAKICAgICAgICAgICAgICAgICAgICAgICAgICAgICAgICAgICAgICAgICAgICAgICAgICAgICAgICAgICAgICAgICAgICAgICAgICAgICAgICAgICAgICAgICAgICAgICAgICAgIAogICAgICAgICAgICAgICAgICAgICAgICAgICAgICAgICAgICAgICAgICAgICAgICAgICAgICAgICAgICAgICAgICAgICAgICAgICAgICAgICAgICAgICAgICAgICAgICAgICAgCiAgICAgICAgICAgICAgICAgICAgICAgICAgICAgICAgICAgICAgICAgICAgICAgICAgICAgICAgICAgICAgICAgICAgICAgICAgICAgICAgICAgICAgICAgICAgICAgICAgICAKICAgICAgICAgICAgICAgICAgICAgICAgICAgICAgICAgICAgICAgICAgICAgICAgICAgICAgICAgICAgICAgICAgICAgICAgICAgICAgICAgICAgICAgICAgICAgICAgICAgIAogICAgICAgICAgICAgICAgICAgICAgICAgICAgPD94cGFja2V0IGVuZD0ndyc/Pv/bAEMABwUFBgUEBwYFBggHBwgKEQsKCQkKFQ8QDBEYFRoZGBUYFxseJyEbHSUdFxgiLiIlKCkrLCsaIC8zLyoyJyorKv/bAEMBBwgICgkKFAsLFCocGBwqKioqKioqKioqKioqKioqKioqKioqKioqKioqKioqKioqKioqKioqKioqKioqKioqKv/AABEIALoBiQMBIgACEQEDEQH/xAAfAAABBQEBAQEBAQAAAAAAAAAAAQIDBAUGBwgJCgv/xAC1EAACAQMDAgQDBQUEBAAAAX0BAgMABBEFEiExQQYTUWEHInEUMoGRoQgjQrHBFVLR8CQzYnKCCQoWFxgZGiUmJygpKjQ1Njc4OTpDREVGR0hJSlNUVVZXWFlaY2RlZmdoaWpzdHV2d3h5eoOEhYaHiImKkpOUlZaXmJmaoqOkpaanqKmqsrO0tba3uLm6wsPExcbHyMnK0tPU1dbX2Nna4eLj5OXm5+jp6vHy8/T19vf4+fr/xAAfAQADAQEBAQEBAQEBAAAAAAAAAQIDBAUGBwgJCgv/xAC1EQACAQIEBAMEBwUEBAABAncAAQIDEQQFITEGEkFRB2FxEyIygQgUQpGhscEJIzNS8BVictEKFiQ04SXxFxgZGiYnKCkqNTY3ODk6Q0RFRkdISUpTVFVWV1hZWmNkZWZnaGlqc3R1dnd4eXqCg4SFhoeIiYqSk5SVlpeYmZqio6Slpqeoqaqys7S1tre4ubrCw8TFxsfIycrS09TV1tfY2dri4+Tl5ufo6ery8/T19vf4+fr/2gAMAwEAAhEDEQA/APpClo6UlABRRRQAUUUUAFFFFABRRRQAUUUUAFFFFABRRRQAUUUUAFFFFABRRRQAUUUUAFFFFABRRRQAUUUUAFFFFABRRRQAUUUUAFFFFABRRRQAUUUUAFFFFABRRRQAUlLSUAFFFFAC0UUUAFFFFABRRRQAUUUUAFFFJu5oAWikzRmgBaKTNAOaAFooooAKKKKACiikzQAtFJmjNAC0UmaWgAooooAKKQnFGaAFoozRQAUUUUAFFJmjNAC0UmaWgAooooAKKKKACiiigAooooAKKKKACkpaSgAooooAWiiigAooooAKKKoX+t6Zpa7tQv7e3H/TSQCgC/RWNaeLvD99MIrXV7SSQ9FWUZNbCsGUFSCD0IoAWsPWpbhNU09bV1VmZ87z8v3T1rcqrd6fb3u37TEH2/dPpWdSLlGyNKclGV2ZCa/cNBE6wRncPm5bqDjjCmrk92bu1njTzoGVMl9uAeOxNX4beOCFY4kVUUYAA6UT20dzC0Uy7kbqKhQnbV3G5QvdKxzZmluTp1tJcSJG9u8jOrYLMMY5/GtrRJpJ9JhkmJLleSe9B0WxMCQmBdiHKj0q7GiRRhIwFVRgAdqmlTlF3kVUqRkrIfRSZFVZtVsbdts11Gh9CwrdyjHdmKTexbpryLHGzudqqMkntVeDUrO5OILmNz6BqTUrdrzTLiCI4aSMqD7kUnK8W46jUfeSloUo/E1hNdpbxGVmk+4REcN7g+lP1q7lg+ywWzbZbiYJn0A5P6Cs6ytL6e70/wA+y+zLZJhnLA7zjHGO1WteHk3ul3Z+5FcFW9twxXLz1HTbfl5HVyU1USXn59zSvPtX2bFkYxLkDdJnA9+Kw0167tra/F2scs1q4VWj4VielausS30Wmu2lwedcHhRkDHvzWImmXc+hz2gspIZyRIZJXU+Y+c9jRWlNTtC+3yChGHLedrX+Zaj1a80++EOrGN1kiMqtEp+XHUYrUttVtbqdYbeTexjEnyjgLWO0Wo3t4LyWwaMwQMiRswJdj179Kbo2mX2jtcJ5SMJY/MEhPCN3X6VMKlSMrdBzp03Fu6Ujp88VVW/ia/a0B/eKgY+mDTNNmkvNMikmxvdfmx0rNi8L28estc7D5e0bRvOd2a6JSnZOC3OeMYXam9jVv/tZgAsDGshPLSZIA/CsJPEF1FY3KzLHJcxXC26MmQrs3StTW31CPTyNLgMsznbwQNo7nmsg6Zcy6IsUVjJBNbzJMokdSZWByeQaxrSnz2hfY3oxhyXnbf5lqLWLnT72S31co4WLzRJCp6Z5GK1rfUra6uGhgfeyqHJXoAenNYbw6ldXU981gUYQeVHC7DLE9T9KTRtMvNDgubfKBCBItw3Y45GPaphUqKVraDqU6bi3fU6fcO9JvX1H51n2DyajpI+2D/WZBK8bhng1EvhuwRwyrJkHI/eGurmk0nFHNyxTakyzqk91b2TPZRLJIP77YAHrWa2s3H9g2U6Khursqq5+6Ce9aWqNOli4trZrh2G3apAx781gx2GovoVijWbR3Fi6sI2YfvMDnBBrCrKam+W+xvSjBxTlbcsNqGop9tsp3j+1RQiaKSMYDD0wfpW3p9yLzT4bgf8ALRQawnFwGv8AVr6A2yi28pI2IJPvx71raHA1volrG/DBBkUUXLns/wCtQrKPJdb/APA1NCiiiuw5AooooAKKKKACiiigAooooAKSlpKACiiigBaKO1FABSE4FLWH4u1CbT/DszWv/HxMRBD7MxxmgDPutSv/ABJqU2naFM1rZ27bLq/UfMW7pH7jua0tO8JaNp2Wjso5JmOXmmG93PqWPNW9F0yHR9Ht7GAfLEgBY9WbuxPck5NX6AKF1ommXkZjurC3kUjBDRg1z82i3vhb/S/DbyS2Scy6a7Flx3Mefun26V19IRmgCppep2+r6fFeWb7opB+IPcH3Bq5XKaav9ieOrrTYlYWmpQm8jGeEkUhXA9iCp+ua6ugAqvdTvBFuihaVv7qnFWKpaml3JZulgUErcZY4wKmTai2io6uzKUfiBJoYzDbu8sjsgizyNvXmrttqEVxYC7+5Hgk7v4cdazE0q6gFpNbxwpLbhlKFyQwbqc465FJ9jaOKz0p2BMjGSbHQgckf0rlVSoviOhwpv4SdEuNZPmSs8NmfuxqcNIPU+1X4NOtLdQsNvGo/3asKoVQAMAVHb3kF0XEEiv5bbWx2PpW0acU/e1Zi5Sa02IrjS7O5XEtuh9wMEfjVLfcaPIPNdprMnG5uWj/xFbNRzRLNCySDKsMEU5U1vHRhGb2eqHKQygqcg9KbLEkybZUDLnOCKz9GZkhltJDlraQoPdeo/TFalVCSnG5MlyysIBxS4ooqyQxUc0YliaMlgGGCVOD+dSUUAV7O0jsrcQw7ti9NzE4/OrFFFJJJWQ223dhRRRTEJUF5Zx31uYZ92xuu1iP5VYopNJqzGm07ogt7dbeIRozlR0LMSf1qeiihK2iEFFFFMCOWJJoykqh1PUEU9RhQBS0UAFFFFABRRRQAUUUUAFFFFABRRRQAUlLRQAlFFFAC9qQUGigBa5rxlxHpLH7i6lEX+nNdLWR4n0ttX8P3FtCds2N8TejjkUAa3avG/id8Q9c+HPi0O0q3Wm6laOtrDgBoZx0J/wBnmvT/AA7rCazo8c+Nk6/u7iInmOQcMp/GuZ134W6f4n8QahqeuXD3P2m0NrBEw4tgerL70Ab/AIQ/tBfCljJrt4tzeyxh5ZBgAk84FbteO+K9FTwloXhi1udbmmls76GNC8u0NHvGSR3wO9evCaMwiUMDGV3Bs8Y9aAOd1ze/izSI7V0S58uZgzDPy/Lnj64rS8jV/wDn7t/+/R/xrH0LGu+KrzXwD9mgT7HZtnhxnLuPxAH/AAGusrOVNSd7stTaVjL8jV/+fu3/AO/Z/wAaPI1j/n6tv+/Z/wAa1Kq3ss8MJa2RGYdd5wAKh0kle7+8pTbdrIx9StPEMqxC1u4AwbJKqRxTrJLuLX4hqMsckhtztKDA6ilXXbia3R7e2BYRNLIGbGADjj61LeS77e11WJf9X8zjvsPWuXlhfni29mdF58vJJJbmwfumvPLe71LT/wC07yykiFvHekOjDJbJFegRSJNEroQysMgiss+HLP7JdW/z7LmXzX571riKUqtnB7XDDVoUlKM1e9vz1NGC5SRY8sod1Dbc81Oelc08aW3i+1MUEu0QmNpAhIzxjn8K3rm5jtbZ5ZThVGa1p1G0+boYVIJNcvU5q7vNYsPEd7cafYpfWYCCWJH2yhsdVzwfpmtfSPEum6yWjtptlynEltMCkqH3U8/j0qTR4ZFtWnmBElw5kYHqM9B+VR6t4b07WQGuodsy/cnjO2RD6hhVUr8t2RU+KxrUVyf/ABUfh7PB1yxXAGOLhB/Jv51r6R4k03WQy2c/75OJIZBtkQ+6nmtSDVrK1XX7XR7+wtrw7BeuyLIzAKu1S3JP0rVrkvGmkXeoaho11aafHqCWUzvLC7BcgxlRjPuaAOoW6t2RXE0e1hlTvGCKiv737FZtOlvLckdI4QCzVxll4DupdJtEu5oYpYlOYzEH2ZOdoPtW5fabd21hOIjNqIkUJ9lDiMKO+09qAG/8JrZPpsFzBbXUss0rxLaog8wMn3wecceua1tJ1S21nTYr2yYtFIDjIwQQcEH3zXD6d4d1rR7Wwurez85rea422bSjckcu0j5jwSCv611XhLSZtE8Ow2d0VM25ncL0BZicfrQBt0UUUAFFFFABRRRQAUUUUAFFFFABRRRQAUUUUAFFFFABRRRQAUGikoAKKKKAFopKO9AC0UUUAc1qeh3lnqcmseG2RLmQD7RaucR3OOh9m96IPGtlGTFrMFxpky/eE8Z259mHBrpaa8aOMOisPQjNAHIatrPgvVdr30VrqksY+Rfs/msPpkU14NW8U2ws4oZNE0baF7LNKuOgH8Arr0toIzmOGND/ALKgVJigDkbK7uvCSRafqkYk01AEhvIkxsHYOB0+tdVFNHPGskLh0YZDKcg0ssSTRtHKiujDDKwyCK5mbSr/AMPTNc6B/pFoTmWwdug7mM9j7Hj6Vr7s/J/gRrH0OpFZ+r2c99a+TbzCLcfnyM7h6Umla1aavAXtnIdDiSJxh4z6EVZubuG1hMk7hR/OsKkbJqehpCTunEypdJutilLiKI+UYZMJxt9qo3V/fLLBp2ixrJFgI05XIX1rSEd1q7Zm3W1n2j6PJ9fQVqQwRwRiOJAir0AFcfsnU+B2Xc6lV5H76u+xkw2t5o6AW2bmDq0Z4ZT32/4VZTW7Mj967Qt3WRSDWlimNEj/AH0VvqK3VOUFaD0MXNS1kjPk1u06Qb7hz0WNc1HHZ3GoTrPqICRocpADnn1PrWqsaL91VH0FOxT9m5fGxcyXwoQDFLRRWxmU9Uu57OzMtpZtdy5wI1YL+ZPSuJ1TUdL8RafaXcOkzPqMgco0MnlSw7OGO8f5NdR4qt9Zu9Ee38PNClzIQrPK5XCfxYIB5x7Vgjw9rVpa2E2m2djFc28L27wGdimw/wAQbbknv0oAwdU8a+J/Dnh3T9S020fxHZXZBDGPE0Sdw23gn39q6eD4gWWoaXbPpNtNdahcr8tlt2vGe+/+6B61cgjj8GeBkjmdZWtIcZxgO5PT8Saf4V0U2Fm19eqG1K+Pm3Enpnog9gKAK8ek+JdRxLqWtfYAwz9nsY1+X23MCTT28NarCubLxNfB+wnVJFP/AI7XS0UActD4h1DR7pLXxTbxrHIwWK/gB8tj6MP4T+ldQrBgCvIIyCKhvLOC/tJLa6jWSKRdrKw61geF55rC+vPD17IXezAktnZstJCemfoePyoA6aiiigAoqv8Ab7b+0PsPnL9p8vzPK77c4z+dJdalZWTIt5dwwFzhRJIF3H2zQBZoqvc39pZwiW7uYoIz0eRwoP4mmvqdlG1uHuYx9pO2H5s+YcZ4oAtUUUUAFFGagu761sY/MvbiK3TON0rhR+tAE9FQNe2qWv2l7iNYMZ80uNuPXNRHV9PFot19shMDMFWRXBUknAGR70AXKKKKACiiq93fWlhGJL25it0JxulcKP1oAsUVA97bR2v2l7iNYMZ80uNuPXNQtrGnJaJdG8iNvI4RZVbKlicAZHvQBdpKXrSUAFFFFAC0UUUAFFFFABRRTWkRBl3VR7nFADqKjS4hkOElRj7MDUmaACmmkeQIpZiAB1JrKe8uNSYxadmOHOGuCP8A0Gs5zUdOpUYuRna9Ywy3yy6UzQ6sPutD3H+2OmKi06/C6z9m8SqYb4n9wX/1Ug/2D6+3Wuks7CGzjxEPmPLOeSx9SabqOmWuqWrW97Cssbevb3HpVR9+3ttf0/zCT5f4ZbAHalxXKLcal4VIW88y/wBKzgTgZkgH+16r710drewXtuk9rKskTjKspyDWsoOOvQzUk9CxRSZpjzxp9+RV+pxUFElFRrNG/wBx1b6HNPzQAtFFFABRVbULtrKyeeO3luWXpFEMs1c9H46tprNHgsbqS6aZ4TahfnVk+9n2FAE/jCJbm3020k/1c9/Gr/QAt/MCuiAwMCuS12+GueCoNY0xWzDIlyqsMMNpwwPuBmunsrqK9sobmBg8cyB1YHqCKAMbxj4vs/BejpqWpxSvbmVYmaJc7Nxxk+1Ry+NtOTxZp/h+EST3N9B9oRowCqp6k1N410GHxL4O1LSpwuLiBgpb+FscH8DXlHwAsL/Vr7UPEWtfvJraNNOgfORtjGDigD3Wua1GNYfiDo86DDzQTwt7rgN/Na6WuWRzqvxFLQsGt9KtWR8f89ZCMD8FB/OgB3izWr+yvNL0vSGjiutTmMazyrlYgBknHc8dKpeDb3XZPEWt6dr2ox3f2GRFj8uHYCrKGB69ecYrf13w9Z6/bxJdGSOWB/MgniYq8TeoIo0Pw/aaFFN9naSaa4ffPPM5Z5WxjJJ9hQBh+GcXXjzxPdyffikhtUB7KE3fqWNRfEWHSV0ecT2S3mqXsZtrOEcu7npj0x1J7YrUsNFutP8AHGpajHtNjqEEZcZ5WVMjp6EEflTdX8E2er68mrveXtvdxxeUjQTlQo9gKAOVsdIY+M9E0TXG+1rZ6PuKyHKtJnBOO5rn44737Rp1jpc6xC38Q3MVs8g3CNMZwB3wSRXpV94LtL6O0Z7y8S8tUKR3iTESlT1BbvmpbbwbpNpDp0cEbKNPmaaM7iSztnczHuTk0AU/Bus6hdPrFjrlxFNLpd0IftCrsDqVDAkdutdLdTmCzkniiecqpYRx8s/sK5jxFoFhZaBrk6QSzS6gfNZFBYmQLhcAV0GjyCbRbRgrLmJeHUgjj0NAHIeFvF+pan4p1WzutI1COFLhVQyKoWAbAcNz68/jW54uGi2+ltf67AkywqViRhkszdFA7k1r2+n21rc3FxBEqS3LB5WH8ZAxn8hWX4i8J2fiWezmu57mF7Ni0RglKYJ78UAee2WkXNpa+DtE1kMtveX01xJbsTwAjOkZ+nHFQa3A1jeeJrHStscUd9ZvDEfuRuxGf1r0O78GWd9pMdld3V5M8EwnhuXmJlicdCG60lv4I0yHT5LZjNM806zzTyyFpJHU5BJ/CgCnoOqavZ+K73RtevYbpEtkuY51Ty9oJIKn8R1ro77URbaY95awSX+37sdthmfntWbrOm2NnJd65NbSXUv2YRNCilt6gkgAfU1D4Ht/I0ORiro89w8zxspURlsfKAewGP1oAS08W3d1dxQP4Z1aASMFMkkShV9zzUni6xe50/zbfRotVuEUhIpZAoGR15roqyNa0FdYaNhfXlm6DG62mKbh6HHWgDy/w95N/p/hTSLmR2g+2XP2qCTgLKjf6r3C5IH0q5f2sdrbePbK1Hl2ttHFcwov3Y5ACePT7ortJPAWjHRYNOhSWD7PKZ4p45CJFkPJfd1ycnNVdS8FiLwre6XpBaSfUZU+13M8mXdcjcST1O0YAoA6TRpmuNEs5ZOWeBGOfXFXaitYFtbSKBPuxoFH4CpaACiiigAooooAKKKyPE+qtpGgXFzEN02AkS+rngUAUdU168u9TbR/Dao90gH2m6kGY7YH/wBCb2psXgexnG/XLi61WY8sZ5mCfgikL+laXh3R00bR4oM752/eXEpHMkh5Yn8a1aAOck8B+Hm+aCxNrIOkltK8TD8VIqnI2s+Eh5rzyavpQ+/5gHnwD1yPvD68119NZA6lWAKkYIPegDEtFfX4o7y4kH2Nxuihjbhh6se/0raSNUQKgCqOgA6Vy2hf8SLxVe6BuJtp0+2WYxxGM4dB9Dg/8CrqxURgo69SpScvQWms23P8qdmqV9p8d5JHK7yK0RyoRyoJ98davTqQzCm8YC1vbi11XTZLcpA00fzBvNUED8Dkj864y7s/EUviFr7wyq6Z9j2zzabJIdkwPf0GR2wK6f8A4RnVrtdSOpNbPPdjCTKzHYAcooGOB61WvNP1KTUo7S8lhS41TbFIsLH5YUGWOfU9Pxr0qMoU3eNvzX9bnNOLluX7XVNW8WQqdO3aZZYxJcEAyO3cJngD3q/F4K0bhryGS9k7vczNIT+BOB+Arbt7eK1t0hgQJHGoVVA4Ap6SpJny3VtpwcHODXE6jv7miN1Ffa1MCXwVpa5bTvP0+X+F7aZlx/wHOD+VR2+qX+iXkdnr7Ca3kO2G+UbcnsrjsfeulqtqNhDqVhLa3Kho5FIPt70Ko3pPVBy21iWQc0tYPhS7ml02SzvCTcWMrW7sx5cL91vxGDWre6jZ6dD51/cxW8f96RwoqJRcXYpO6uV9dOpjRpxoaxNfEYi804UZ7/hXK22h6tpdvZXFpYwme3MgmWS4yZi45ctjrn2rSfxZcak3l+GdKnvfmwbmYeTCPfJ5b8BQPDWp6qwfxHqzsmc/ZLLMcf0LfeP6VIzmdT8c6d8O/Ddlp97A+rXNw7rJFZYcKzMSQfbnFWfC+tahoFmsmsaZPZ6LdOXtt53vaZ/hcAcL6eldpa+HtJs4Uit7CBVRtwygJ3euTzmr7xJJGUkVWUjBUjIIoAg32mrWDrHKk0EyFSY36g+4qroPh/S/C2kpp2jW621qhLBASeSck5NZ9x4I013L2Mt1prk5JtJio/75OR+lRr4Hhdx9t1jVLtB/yzknCqf++QKAJNY8Tfvv7M0BVvdSkGBt5SEf3nPt6Vf8P6Kmi6d5RczXEjGS4mYfNI56k1Z07SrLSYPK0+2jgQ8naOSfc9TVygAooooAKKKKACiiigAooooAKKKKACiiigAooooAKKKKACiiigAooooAKKKKACigGigArmvGXMekqRlG1KIOMdua6WsPxdp82oeHZhaf8fMJE0P+8pyKANvtXl/jf4pXngLxTJa6xZo2m3Foz2MyZy8w/gP1r0LR9Th1fSLe9gPEqZKnqrdwfcGvPvGnwruPHniK7u9avF+xxWjRabEhI8qU/wDLQ+/FAHb+Fb3U9R8N2d5rcMcF5Ogd4o+iZ6CtmvHPE8HiHQfB2k2MniG4HiFAsFpBaNhZ2B4Zx3GOueK9bsjMLCD7Wwaby18wjoWxz+tAHN+JWuofFOjy6XBFPebJl2SPtGz5c8/XFWPtviv/AKBFl/4Ff/WqDTj/AG346utSjZjaabCbSP0eRiGcj6AKPzrqquMklsmS1fqc59u8Wf8AQHsv/Ar/AOtR9v8AFf8A0B7P/wACv/rV0eKo3+pxWM0MUqTMZjhTHGWA+p7VXOntFf18xcvmcj4h1nx3ax2x0zQ7d3aXDKku/wCXB6+n1qTR7jVLvxxbPr9nFaXC2DlI45N/8QzVW+v7y01DVJdI1Caa1hg2zNK+4LKzADb6YGc/hVfdLo3iyO8N1NeW1qiea8r7iiSDDHPoDg13WTp8qik7PXW5htK92ekt9014ro3irWvDs3iC6t9PW606PVmE8ry4K7iBgCvaFYSRhkOVYZBHeuMb4eJ/Yesaf9tbGp3n2ovtHycg4/Ss8JVo04yjVV07fnqVWhOTTgdhbTrcW8Uq9JFDAfUVMeleYzNbJ8TtNtLK+uIpLQD7Uzytsk+XCoq9OvNek3NzHa2sk0zBY41LMx7AVz1aXJa3XU0hLmTv0OL8jWbnxvrUGkXcNnbHyWklKbn3bB0HTpitqy8G6dBN9pvjJqN1nd51027B9h0FJ4SjkmtLnVJxh9QnMyg9RH0T/wAdAroaip8Vio7DVRUUKihQOgAp1FFZlBRRRQAUUUUAFFFFABRRRQAUUUUAFFFFABRRRQAUUUUAFFFFABRRRQAUUUUAFFFFABRRSUALRSZooAKBRQKAFoPNFFAHJ3en3/hrUptS0OE3VjcNvurAHDK3d4/c9xWnp3irSNSysd4kUwHzwT/I6H0INbNUbrRtNvmLXdlDKx6syDP50Ac94l0Lwjq17FquuXCLPboUSZLtoyo9PlNMOo3eu2yaX4WSWGxVAj6lMD9zGMIDyx9z+tbsXhjRYW3R6dBn3XP8600RY1CxqFUDAAGAKAKulaZb6RpsVlZptijGBk5JPck+pNXKKKADNNdQwIPcYrjtU17UdN8WXwgg+02lvaJK6GQLtHcj1NXl8WJNqKWsdtkSY2yfaIhwRnO3du/DFaujOyZHOtixbeEtGtPO8i1wswYSIZGKtu68ZxViz8P6bZWk1tBbL5U4xIGJbcOmCTXHXfiHUtM1a/g+1TsPs7NGLqHZl94XKeqgNz+FdB4dnvotYu9PvbxrxUijlSRlAI3dRxWkoVFHmciU4t2sQwy33hNvs1xHLe6UD+6nQbpIB/dYdwPXrW3Z67pd9EJLW+hkH++AR+BrQKhhgjNZ0+gaXcMWlsYSTySFxn8qzcoy1luVZx2Ib7V9DsGEt1PbCUn5cAM5Ptjmsvyr3xZMv2mCSy0hG3eW/Elzj1HZfbvW5b6HplqwaCxhVh0bZkir3RaOeMfh3Dlb3ERQiBVAAAwAO1OJAGT0rgNT8W69Na6nf6LDapY6dM0LGYkvIVOGIA7Zrd1jUp4vAFxf7lMxsy4ZBgZI6j86p0Jq1+rsJVE07G9b3UF1D5ttKsqEkbkORS+fF5mzzF3/AN3PNc3peqaZ4e0PS7Kd2jaWFSoWNmyT1yQPU1heLdKtBrlimitKNbubpZS6yk+XGDliw6AYpwoqU+Vuy7ilNqNz0Fp4kYK8iqT0BOM08EHpXmcljHr8niq+1CSQz2MzRWxWQr5QRAQQB7805PHGqaXY6XBc26Ty6naoLKTP3psgMH9Bgg5rT6rJ6Qd3/wAC5Ptktz0uioIHbyY1nZfOK5YA96zdU8S2uk3QguLe9kYruzBavIPzUGuWMXJ2RtdJXZs5qMTxGTYJF3/3c81Q0rWoNYjka3iuYghwfPgaIn6bgM1xuuaRaReMtKh0Ey/2m115904lZtsIzu3dgD0Fa06XNJxloRKdldHoJniVwrSKGPQE8mn5ryyewTV9G8SazdSyi+triRbeQSEeUE6YFaUnjXVLO8s9Okto5LnUYYns2zgcj59305rV4ST+B3fX8yFWXU9CzRmoY5QcIzqZAAWUHp+Fcv468Vv4d07/AEaK4Nwzx7XW3Z0ALgEEgYzgmuaFOVSShHdmspKKuzrs1GJ4mcosilh1UHkVU0zUY9WsBcRxTRK3G2aJo2/IjNed30MOm+OtNFtZXmmL9offdzuWS5JH3Rgnr74rSlS55OL0aJnPlSZ6eZ4hIEMihj0UnmkiuoJpJEilV3iO11U5Kn3ryq5tEuvBOqeJ3lk/tOO6Z4pPMP7vbIFCgemP510ukztD8RZIRwL3TUuJB/tAgZ/WtJYdRTae1/wt/mSqt3sdrRQKK5DYKKKKACiiigAooooAKKKKACkpaSgAooooAKBRQKYhaKKKQwooooAKKKKACiiigDE1Lwrp+p6g93cecJHQRvskKh1HYgdRWiNPtQQRBGGAwCFGRVqiqcpNWbFZGCfCOmvNLLcia5eSNot00hbYrHJC56dB+VW9J0O10jzDbGR3kxueVyzEDoMmtOim5yas2HKtwoooqBhSHkUtFAHJ3XgaKe6uvJv7iCyvJfNuLVPuu3fntmtrVNLjvfD9xpiDakkBiUenGBWlRWjqzdrvYhQijH8OwXC+H7SLUoAlzDHsYEZ6cZrJHgqaLXbnU7bWbmKW5fc42g4H90E9q66imqs4tuPUHBNK/Q5O/wDBCXV9dTQajcWsV9t+1wx9JSBjPtkCnXngPTr1pDM8n+oSC3wf+PcKcgr6HIH5V1VFP29XTUXs49jjl8i08f2cfmySSm1aORyDgnjHtXX4HpS7RnOOaWonLmsWlYaV4OOPpXI2Xgi4sdUnvbfXLoPcS+ZKCoO4Z+7n0rsKKcKkoJqL3E4p7nIXngSK6uLsR6hcQWd6/mXNsn3ZD357Zqa+8D2V9cz3E0snnMU8lx1gCdAv+e9dTRVe3q9xezj2OGs/sU/xBX7MGgktUZJXKkG5cgfoAP1rrNT0y21eyNreoWiLK5AOOVYEfqKubRnOBS1EpttNdBqNhpT5NoOOMcVy/wDwhrXGoW0+p6rc3sVrJ5sMMmMBuxJ711VFEakofCEoqW5yEvgOGW4mQX9wunTzieWyH3GbIPX0yOlW9P0qf/hNL3U54/LhjgW2t/8AaHUn9K6SirdabVmxezigFFFFYlhRRRQAUUUUAFFFFABRRRQAUlLSUwCiikzQIXFLilopDEopaKAEopaKAEopaKAEopaKAEopaKAEopaKAEopaKAEopaKAEopaKAEopaKAEopaKAEopaKAEopaKAEopaKAEopaKAEopaKAEopaKAEopaKAEopaKAEopaKAEopaKAEopaKAEpMU6igBuKMU6igD//Z)"
      ]
    },
    {
      "cell_type": "code",
      "metadata": {
        "id": "PCWkq6OEdpxg",
        "colab_type": "code",
        "colab": {}
      },
      "source": [
        "import matplotlib.pyplot as plt"
      ],
      "execution_count": 58,
      "outputs": []
    },
    {
      "cell_type": "code",
      "metadata": {
        "id": "n6sW9NmlL3v0",
        "colab_type": "code",
        "colab": {}
      },
      "source": [
        "class RedNeuronalXor:\n",
        "  def __init__(self):\n",
        "    # 1 fila por neurona , 1 columna por variable de entrada\n",
        "    self.Wc1 = np.array([\n",
        "        [20,20],\n",
        "        [-20,-20]    \n",
        "    ])\n",
        "\n",
        "    # 1 elemento para cada neurona intermedia\n",
        "    self. Wc2  = np.array([20,20])\n",
        "\n",
        "    self.biasH1=-10\n",
        "    self.biasH2=30\n",
        "    self.biasy=-30\n",
        "\n",
        "  def activacionH1(self, x):\n",
        "    return (20*x[:,0]+20*x[:,1]-10)\n",
        "  \n",
        "  def activacionH2(self, x):\n",
        "    return (-20*x[:,0]-20*x[:,1]+30)\n",
        "\n",
        "  def activaciony(self, h1, h2):\n",
        "    return (20*h1+20*h2-30)\n",
        "\n",
        "  def forward_propagation(self,X):\n",
        "    #print(X.shape)\n",
        "    #print(X)\n",
        "    #print(self.Wc1.T)\n",
        "    #print(np.matmul(X,self.Wc1.T))\n",
        "    #print(np.matmul(X,self.Wc1.T)-self.biasH1)\n",
        "    h1 = self.activacionH1(np.matmul(X,self.Wc1.T)-self.biasH1) # 1 fila por observacion, 1 columna por representacion intermedia [4,3]\n",
        "    print(\"H1\")\n",
        "    print(h1)\n",
        "    #print(h1.shape)\n",
        "    #print(self.Wc2.shape)\n",
        "    h2 = self.activacionH2(np.matmul(X,self.Wc1.T)-self.biasH2) # 1 fila por observacion, 1 columna por representacion intermedia [4,3]\n",
        "    print(\"H2\")\n",
        "    print(h2)\n",
        "    plt.figure(figsize=(16, 4))\n",
        "    #plt.subplot(1,3,1)\n",
        "    plt.title(\"H\")\n",
        "    plt.subplot(1,3,2)\n",
        "    plt.scatter(h1, h2, marker='*', label='1')\n",
        "    #plt.scatter(x1[nf], x2[nf], marker='o', label='0')\n",
        "    plt.legend()\n",
        "\n",
        "    #print(h2.shape)\n",
        "    #print(self.Wc2[1])\n",
        "    y_aprox = self.activaciony(h1*self.Wc2[0]-self.biasy,h2.T*self.Wc2[1]-self.biasy) # 1 fila por observacion,  1 unica salida [4,1]\n",
        "    #print(y_aprox.shape)\n",
        "    print(y_aprox)\n",
        "    return y_aprox"
      ],
      "execution_count": 63,
      "outputs": []
    },
    {
      "cell_type": "code",
      "metadata": {
        "id": "7HglQMdNV9tP",
        "colab_type": "code",
        "colab": {}
      },
      "source": [
        "# 4 observaciones, 2 variables\n",
        "Xxor = np.array([\n",
        "      [1,1],\n",
        "      [0,1],\n",
        "      [0,0],\n",
        "      [1,0]\n",
        "])"
      ],
      "execution_count": 51,
      "outputs": []
    },
    {
      "cell_type": "code",
      "metadata": {
        "id": "2SVNQWHJTzie",
        "colab_type": "code",
        "colab": {
          "base_uri": "https://localhost:8080/",
          "height": 355
        },
        "outputId": "af104c23-cfc5-4dcb-c1c5-579ca80946d8"
      },
      "source": [
        "redXor = RedNeuronalXor()\n",
        "y_aproxXor = redXor.forward_propagation(Xxor)"
      ],
      "execution_count": 64,
      "outputs": [
        {
          "output_type": "stream",
          "text": [
            "H1\n",
            "[390 390 390 390]\n",
            "H2\n",
            "[1230 1230 1230 1230]\n",
            "[649170 649170 649170 649170]\n"
          ],
          "name": "stdout"
        },
        {
          "output_type": "display_data",
          "data": {
            "image/png": "[encoded data removed]",
            "text/plain": [
              "<Figure size 1152x288 with 1 Axes>"
            ]
          },
          "metadata": {
            "tags": [],
            "needs_background": "light"
          }
        }
      ]
    },
    {
      "cell_type": "markdown",
      "metadata": {
        "id": "_9w3LxOtgV19",
        "colab_type": "text"
      },
      "source": [
        "Se puede observar que en las cuatro posibles combinaciones para la función que se ha obtenido, después de aplicar la operación h1=w1*x-bias1 y aplicar la función de activación, quedan los mismos cuatro valores, al igual que en el caso de h2. por lo que se podría usar otra función de activación."
      ]
    }
  ]
}